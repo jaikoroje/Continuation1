{
 "cells": [
  {
   "cell_type": "code",
   "execution_count": 1,
   "id": "1e1a2cc5",
   "metadata": {},
   "outputs": [
    {
     "name": "stdout",
     "output_type": "stream",
     "text": [
      "10.672\n"
     ]
    }
   ],
   "source": [
    "#rounding to 3 decimal places\n",
    "\n",
    "rounded_number = round(10.67246, 3)\n",
    "print(rounded_number)\n",
    "\n"
   ]
  },
  {
   "cell_type": "code",
   "execution_count": 2,
   "id": "8937c177",
   "metadata": {},
   "outputs": [],
   "source": [
    "#coverting string to integer\n",
    "\n",
    "string_number = \"4.6\"\n",
    "float_number =float(string_number)"
   ]
  },
  {
   "cell_type": "code",
   "execution_count": 3,
   "id": "adc2fabd",
   "metadata": {},
   "outputs": [
    {
     "name": "stdout",
     "output_type": "stream",
     "text": [
      "4\n"
     ]
    }
   ],
   "source": [
    "integer_number =int(float_number)\n",
    "print(integer_number)"
   ]
  },
  {
   "cell_type": "code",
   "execution_count": null,
   "id": "a33941f1",
   "metadata": {},
   "outputs": [],
   "source": []
  }
 ],
 "metadata": {
  "kernelspec": {
   "display_name": "Python 3 (ipykernel)",
   "language": "python",
   "name": "python3"
  },
  "language_info": {
   "codemirror_mode": {
    "name": "ipython",
    "version": 3
   },
   "file_extension": ".py",
   "mimetype": "text/x-python",
   "name": "python",
   "nbconvert_exporter": "python",
   "pygments_lexer": "ipython3",
   "version": "3.11.5"
  }
 },
 "nbformat": 4,
 "nbformat_minor": 5
}
